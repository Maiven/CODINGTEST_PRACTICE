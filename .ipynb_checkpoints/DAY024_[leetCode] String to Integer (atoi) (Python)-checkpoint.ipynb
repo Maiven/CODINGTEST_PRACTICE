{
 "cells": [
  {
   "cell_type": "markdown",
   "metadata": {},
   "source": [
    "## 2020년 3월 1일 일요일\n",
    "### leetCode: String to Integer (atoi)\n",
    "### 문제 : https://leetcode.com/problems/string-to-integer-atoi/\n",
    "### 블로그 : https://somjang.tistory.com/entry/leetCode-8-String-to-Integer-atoi-Python"
   ]
  },
  {
   "cell_type": "markdown",
   "metadata": {},
   "source": [
    "### 첫번째 시도"
   ]
  },
  {
   "cell_type": "code",
   "execution_count": 29,
   "metadata": {},
   "outputs": [
    {
     "name": "stdout",
     "output_type": "stream",
     "text": [
      "42\n"
     ]
    }
   ],
   "source": [
    "print(int(\"+42\"))"
   ]
  },
  {
   "cell_type": "code",
   "execution_count": 30,
   "metadata": {},
   "outputs": [
    {
     "name": "stdout",
     "output_type": "stream",
     "text": [
      "0\n"
     ]
    }
   ],
   "source": [
    "import re\n",
    "\n",
    "text = re.sub('[^-0-9]',' ',\"-4222\").strip()\n",
    "\n",
    "print(int(float(\"0.999\")))"
   ]
  },
  {
   "cell_type": "code",
   "execution_count": 28,
   "metadata": {},
   "outputs": [
    {
     "data": {
      "text/plain": [
       "-0.999"
      ]
     },
     "execution_count": 28,
     "metadata": {},
     "output_type": "execute_result"
    }
   ],
   "source": [
    "re_str = re.sub('[^-(0-9).(0-9)]',' ',\"   -0.999\").strip()\n",
    "float(re_str)"
   ]
  },
  {
   "cell_type": "code",
   "execution_count": 25,
   "metadata": {},
   "outputs": [
    {
     "data": {
      "text/plain": [
       "'-4222'"
      ]
     },
     "execution_count": 25,
     "metadata": {},
     "output_type": "execute_result"
    }
   ],
   "source": [
    "text"
   ]
  },
  {
   "cell_type": "code",
   "execution_count": 23,
   "metadata": {},
   "outputs": [
    {
     "data": {
      "text/plain": [
       "[' ', ' ', ' ', ' ', '-', '4', '2']"
      ]
     },
     "execution_count": 23,
     "metadata": {},
     "output_type": "execute_result"
    }
   ],
   "source": [
    "list(\"    -42\")\n"
   ]
  },
  {
   "cell_type": "code",
   "execution_count": null,
   "metadata": {},
   "outputs": [],
   "source": [
    "import re\n",
    "\n",
    "class Solution:\n",
    "    def myAtoi(self, str: str) -> int:\n",
    "        check_list = [\"0\", \"1\", \"2\", \"3\", \"4\", \"5\", \"6\", \"7\", \"8\", \"9\", \"-\"]\n",
    "        \n",
    "        str = str.replace(\" \", \"\")\n",
    "        str_list = list(str)\n",
    "        \n",
    "        if str[0] not in check_list:\n",
    "            answer = 0\n",
    "            \n",
    "        else:\n",
    "            re_str = re.sub('[^-0-9]',' ',str).strip()\n",
    "            \n",
    "            re_int = int(re_str)\n",
    "            \n",
    "            if re_int > pow(2, 31):\n",
    "                answer = pow(2, 31)\n",
    "            elif re_int < pow(-2, 31):\n",
    "                answer = pow(-2, 31)\n",
    "            else:\n",
    "                answer = re_int\n",
    "                \n",
    "            return answer"
   ]
  },
  {
   "cell_type": "code",
   "execution_count": null,
   "metadata": {},
   "outputs": [],
   "source": [
    "import re\n",
    "\n",
    "class Solution:\n",
    "    def myAtoi(self, string) -> int:\n",
    "        check_list = [\"0\", \"1\", \"2\", \"3\", \"4\", \"5\", \"6\", \"7\", \"8\", \"9\", \"-\", \"+\"]\n",
    "        \n",
    "        string = string.replace(\" \", \"\")\n",
    "        str_list = list(string)\n",
    "        print(str_list)\n",
    "        \n",
    "        \n",
    "        \n",
    "        if len(str_list) == 0:\n",
    "            answer = 0\n",
    "        else:\n",
    "            if str_list[0] not in check_list or (len(str_list) == 1 and str_list[0] == '-') or (len(str_list) == 1 and str_list[0] == '+') or (str_list[0] == '+' and str_list[1] == '-') or (str_list[0] == '-' and str_list[1] == '+'):\n",
    "                answer = 0\n",
    "            \n",
    "            else:\n",
    "                re_str = re.sub('[^-(0-9).(0-9)]',' ',str(str_list)).strip()\n",
    "                re_str = re_str.replace(\" \", \"\")\n",
    "\n",
    "\n",
    "                re_int = int(float(re_str))\n",
    "                print(re_int)\n",
    "\n",
    "                if re_int > pow(2, 31):\n",
    "                    answer = pow(2, 31)\n",
    "                elif re_int < pow(-2, 31):\n",
    "                    answer = pow(-2, 31)\n",
    "                else:\n",
    "                    answer = re_int\n",
    "                \n",
    "    \n",
    "                \n",
    "        return answer"
   ]
  },
  {
   "cell_type": "code",
   "execution_count": null,
   "metadata": {},
   "outputs": [],
   "source": []
  }
 ],
 "metadata": {
  "kernelspec": {
   "display_name": "Python 3",
   "language": "python",
   "name": "python3"
  },
  "language_info": {
   "codemirror_mode": {
    "name": "ipython",
    "version": 3
   },
   "file_extension": ".py",
   "mimetype": "text/x-python",
   "name": "python",
   "nbconvert_exporter": "python",
   "pygments_lexer": "ipython3",
   "version": "3.7.3"
  }
 },
 "nbformat": 4,
 "nbformat_minor": 2
}
