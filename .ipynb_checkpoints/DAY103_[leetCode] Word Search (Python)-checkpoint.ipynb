{
 "cells": [
  {
   "cell_type": "markdown",
   "metadata": {},
   "source": [
    "## 2020년 5월 19일 화요일\n",
    "### leetCode - Word Search\n",
    "### 문제 : https://leetcode.com/problems/word-search/\n",
    "### 블로그 : https://somjang.tistory.com/entry/leetCode-79-Word-Search-Python"
   ]
  },
  {
   "cell_type": "markdown",
   "metadata": {},
   "source": [
    "### 첫번째 시도"
   ]
  },
  {
   "cell_type": "code",
   "execution_count": null,
   "metadata": {},
   "outputs": [],
   "source": [
    "import itertools\n",
    "from collections import Counter\n",
    "\n",
    "class Solution:\n",
    "    def exist(self, board: List[List[str]], word: str) -> bool:\n",
    "        answer = True\n",
    "        \n",
    "        board = list(itertools.chain.from_iterable(board))\n",
    "        my_count = Counter(board)\n",
    "        \n",
    "        word = list(word)\n",
    "        \n",
    "        word_count = Counter(word)\n",
    "        \n",
    "        word_keys = list(word_count.keys())\n",
    "        \n",
    "        for key in word_keys:\n",
    "            if word_count[key] > my_count[key]:\n",
    "                answer = False\n",
    "                print(word_count[key], my_count[key])\n",
    "                break\n",
    "        \n",
    "        return answer"
   ]
  },
  {
   "cell_type": "markdown",
   "metadata": {},
   "source": [
    "---"
   ]
  },
  {
   "cell_type": "markdown",
   "metadata": {},
   "source": [
    "### 두번째 시도"
   ]
  },
  {
   "cell_type": "code",
   "execution_count": null,
   "metadata": {},
   "outputs": [],
   "source": []
  }
 ],
 "metadata": {
  "kernelspec": {
   "display_name": "Python 3",
   "language": "python",
   "name": "python3"
  },
  "language_info": {
   "codemirror_mode": {
    "name": "ipython",
    "version": 3
   },
   "file_extension": ".py",
   "mimetype": "text/x-python",
   "name": "python",
   "nbconvert_exporter": "python",
   "pygments_lexer": "ipython3",
   "version": "3.7.3"
  }
 },
 "nbformat": 4,
 "nbformat_minor": 2
}
